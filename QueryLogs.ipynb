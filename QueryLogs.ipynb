{
 "cells": [
  {
   "cell_type": "markdown",
   "metadata": {},
   "source": [
    "Let's try to load the query logs"
   ]
  },
  {
   "cell_type": "code",
   "execution_count": 1,
   "metadata": {},
   "outputs": [],
   "source": [
    "import pandas as pd\n",
    "import numpy as np\n",
    "import datetime as dt\n",
    "from os import path"
   ]
  },
  {
   "cell_type": "code",
   "execution_count": 18,
   "metadata": {},
   "outputs": [],
   "source": [
    "pd.set_option('display.max_rows', 100)"
   ]
  },
  {
   "cell_type": "code",
   "execution_count": 2,
   "metadata": {},
   "outputs": [],
   "source": [
    "# steps to create a unified logs file.\n",
    "def create_unified_log():\n",
    "    if (not path.exists('data/logs.csv')):\n",
    "        logs1 = pd.read_csv('data/logs/Clean-Data-01.txt', sep='\\t')\n",
    "        logs2 = pd.read_csv('data/logs/Clean-Data-02.txt', sep='\\t')\n",
    "        logs3 = pd.read_csv('data/logs/Clean-Data-03.txt', sep='\\t')\n",
    "        logs4 = pd.read_csv('data/logs/Clean-Data-04.txt', sep='\\t')\n",
    "        logs5 = pd.read_csv('data/logs/Clean-Data-05.txt', sep='\\t')\n",
    "        frames = [logs1, logs2, logs3, logs4, logs5]\n",
    "        logs = pd.concat(frames) \n",
    "        # AnonID is not a unique column, so it would not be a good idea to make it an index\n",
    "        #logs['AnonID'].nunique() #238,544\n",
    "        #len(logs['AnonID']) # 394,2354\n",
    "\n",
    "        # let's save it to a csv file\n",
    "        logs.to_csv('data/logs.csv', index=False)\n",
    "create_unified_log()"
   ]
  },
  {
   "cell_type": "code",
   "execution_count": 3,
   "metadata": {},
   "outputs": [
    {
     "data": {
      "text/html": [
       "<div>\n",
       "<style scoped>\n",
       "    .dataframe tbody tr th:only-of-type {\n",
       "        vertical-align: middle;\n",
       "    }\n",
       "\n",
       "    .dataframe tbody tr th {\n",
       "        vertical-align: top;\n",
       "    }\n",
       "\n",
       "    .dataframe thead th {\n",
       "        text-align: right;\n",
       "    }\n",
       "</style>\n",
       "<table border=\"1\" class=\"dataframe\">\n",
       "  <thead>\n",
       "    <tr style=\"text-align: right;\">\n",
       "      <th></th>\n",
       "      <th>UserId</th>\n",
       "      <th>Query</th>\n",
       "      <th>QueryTime</th>\n",
       "    </tr>\n",
       "  </thead>\n",
       "  <tbody>\n",
       "    <tr>\n",
       "      <td>0</td>\n",
       "      <td>142</td>\n",
       "      <td>merit release appearance</td>\n",
       "      <td>2006-04-22 23:51:18</td>\n",
       "    </tr>\n",
       "    <tr>\n",
       "      <td>1</td>\n",
       "      <td>217</td>\n",
       "      <td>lottery</td>\n",
       "      <td>2006-03-01 11:58:51</td>\n",
       "    </tr>\n",
       "    <tr>\n",
       "      <td>2</td>\n",
       "      <td>217</td>\n",
       "      <td>lottery</td>\n",
       "      <td>2006-03-27 14:10:38</td>\n",
       "    </tr>\n",
       "    <tr>\n",
       "      <td>3</td>\n",
       "      <td>217</td>\n",
       "      <td>vietnam</td>\n",
       "      <td>2006-05-22 17:43:42</td>\n",
       "    </tr>\n",
       "    <tr>\n",
       "      <td>4</td>\n",
       "      <td>217</td>\n",
       "      <td>vietnam</td>\n",
       "      <td>2006-05-22 18:03:24</td>\n",
       "    </tr>\n",
       "  </tbody>\n",
       "</table>\n",
       "</div>"
      ],
      "text/plain": [
       "   UserId                     Query           QueryTime\n",
       "0     142  merit release appearance 2006-04-22 23:51:18\n",
       "1     217                   lottery 2006-03-01 11:58:51\n",
       "2     217                   lottery 2006-03-27 14:10:38\n",
       "3     217                   vietnam 2006-05-22 17:43:42\n",
       "4     217                   vietnam 2006-05-22 18:03:24"
      ]
     },
     "execution_count": 3,
     "metadata": {},
     "output_type": "execute_result"
    }
   ],
   "source": [
    "logs = pd.read_csv('data/logs.csv')\n",
    "logs['Query'] = logs['Query'].str.strip()\n",
    "logs = logs.rename(columns={'AnonID': 'UserId'})\n",
    "logs['QueryTime'] = pd.to_datetime(logs['QueryTime'], format='%Y-%m-%d %H:%M:%S')\n",
    "logs.head()\n",
    "# 3,942,354 queries"
   ]
  },
  {
   "cell_type": "code",
   "execution_count": 4,
   "metadata": {},
   "outputs": [],
   "source": [
    "# get the longest session\n",
    "'''\n",
    "current_user = logs.head().iloc(0)[0]['UserId']\n",
    "current_time = logs.head().iloc(0)[0]['QueryTime']\n",
    "max_session_time = 0\n",
    "for index, row in logs.iterrows():\n",
    "    user_id = row[0]\n",
    "    q_time = row[2]\n",
    "    if current_user_id != user_id:\n",
    "        if index-1 >= 0:\n",
    "            dif_time = (logs.loc[index-1]['QueryTime'] - q_time).total_seconds()\n",
    "            if (dif_time > max_session_time):\n",
    "                max_session_time = dif_time\n",
    "            current_user_id = user_id\n",
    "            current_time = q_time\n",
    "max_session_time\n",
    "'''\n",
    "max_session_time = 7943593  # hard code it to improve performance"
   ]
  },
  {
   "cell_type": "code",
   "execution_count": 5,
   "metadata": {
    "scrolled": true
   },
   "outputs": [
    {
     "data": {
      "text/plain": [
       "83677"
      ]
     },
     "execution_count": 5,
     "metadata": {},
     "output_type": "execute_result"
    }
   ],
   "source": [
    "# set the maximum frequency of occurrence of any query in QL\n",
    "max_frequency = logs.groupby('Query').count()[['UserId']].sort_values('UserId', ascending=False).iloc(0)[0][0]\n",
    "#max_frequency = 83677 # hard code it to improve performance\n",
    "#max_frequency = logs.groupby('Query').count()\n",
    "max_frequency"
   ]
  },
  {
   "cell_type": "code",
   "execution_count": 35,
   "metadata": {},
   "outputs": [],
   "source": [
    "# set query\n",
    "query = 'rosario' #'sven' #'rosario' #'frozen' #'pear'"
   ]
  },
  {
   "cell_type": "code",
   "execution_count": 36,
   "metadata": {},
   "outputs": [
    {
     "data": {
      "text/html": [
       "<div>\n",
       "<style scoped>\n",
       "    .dataframe tbody tr th:only-of-type {\n",
       "        vertical-align: middle;\n",
       "    }\n",
       "\n",
       "    .dataframe tbody tr th {\n",
       "        vertical-align: top;\n",
       "    }\n",
       "\n",
       "    .dataframe thead th {\n",
       "        text-align: right;\n",
       "    }\n",
       "</style>\n",
       "<table border=\"1\" class=\"dataframe\">\n",
       "  <thead>\n",
       "    <tr style=\"text-align: right;\">\n",
       "      <th></th>\n",
       "      <th>UserId</th>\n",
       "      <th>Query</th>\n",
       "      <th>QueryTime</th>\n",
       "    </tr>\n",
       "  </thead>\n",
       "  <tbody>\n",
       "    <tr>\n",
       "      <td>360974</td>\n",
       "      <td>4274267</td>\n",
       "      <td>rosario flores</td>\n",
       "      <td>2006-03-13 23:45:13</td>\n",
       "    </tr>\n",
       "    <tr>\n",
       "      <td>736324</td>\n",
       "      <td>20660760</td>\n",
       "      <td>rosario argentina</td>\n",
       "      <td>2006-04-22 20:31:19</td>\n",
       "    </tr>\n",
       "    <tr>\n",
       "      <td>736325</td>\n",
       "      <td>20660760</td>\n",
       "      <td>rosario argentina tours</td>\n",
       "      <td>2006-04-23 00:42:51</td>\n",
       "    </tr>\n",
       "    <tr>\n",
       "      <td>736326</td>\n",
       "      <td>20660760</td>\n",
       "      <td>rosario argentina tours</td>\n",
       "      <td>2006-04-23 00:44:26</td>\n",
       "    </tr>\n",
       "    <tr>\n",
       "      <td>736327</td>\n",
       "      <td>20660760</td>\n",
       "      <td>rosario argentina tours</td>\n",
       "      <td>2006-04-23 00:45:21</td>\n",
       "    </tr>\n",
       "    <tr>\n",
       "      <td>736328</td>\n",
       "      <td>20660760</td>\n",
       "      <td>rosario argentina</td>\n",
       "      <td>2006-04-23 00:49:21</td>\n",
       "    </tr>\n",
       "    <tr>\n",
       "      <td>736329</td>\n",
       "      <td>20660760</td>\n",
       "      <td>rosario argentina</td>\n",
       "      <td>2006-04-23 00:53:40</td>\n",
       "    </tr>\n",
       "    <tr>\n",
       "      <td>1045062</td>\n",
       "      <td>3120261</td>\n",
       "      <td>rosario resort</td>\n",
       "      <td>2006-04-06 19:59:08</td>\n",
       "    </tr>\n",
       "    <tr>\n",
       "      <td>1457112</td>\n",
       "      <td>15313953</td>\n",
       "      <td>rosario mexico</td>\n",
       "      <td>2006-04-24 18:28:58</td>\n",
       "    </tr>\n",
       "    <tr>\n",
       "      <td>2103689</td>\n",
       "      <td>8789815</td>\n",
       "      <td>rosario</td>\n",
       "      <td>2006-03-29 21:10:25</td>\n",
       "    </tr>\n",
       "    <tr>\n",
       "      <td>2163193</td>\n",
       "      <td>10834266</td>\n",
       "      <td>rosario more more more song</td>\n",
       "      <td>2006-04-02 12:16:55</td>\n",
       "    </tr>\n",
       "    <tr>\n",
       "      <td>2427766</td>\n",
       "      <td>1170764</td>\n",
       "      <td>rosario central soccer team official team picture</td>\n",
       "      <td>2006-05-11 20:49:10</td>\n",
       "    </tr>\n",
       "    <tr>\n",
       "      <td>3092337</td>\n",
       "      <td>22330507</td>\n",
       "      <td>rosario flores</td>\n",
       "      <td>2006-04-27 17:27:20</td>\n",
       "    </tr>\n",
       "  </tbody>\n",
       "</table>\n",
       "</div>"
      ],
      "text/plain": [
       "           UserId                                              Query  \\\n",
       "360974    4274267                                     rosario flores   \n",
       "736324   20660760                                  rosario argentina   \n",
       "736325   20660760                            rosario argentina tours   \n",
       "736326   20660760                            rosario argentina tours   \n",
       "736327   20660760                            rosario argentina tours   \n",
       "736328   20660760                                  rosario argentina   \n",
       "736329   20660760                                  rosario argentina   \n",
       "1045062   3120261                                     rosario resort   \n",
       "1457112  15313953                                     rosario mexico   \n",
       "2103689   8789815                                            rosario   \n",
       "2163193  10834266                        rosario more more more song   \n",
       "2427766   1170764  rosario central soccer team official team picture   \n",
       "3092337  22330507                                     rosario flores   \n",
       "\n",
       "                  QueryTime  \n",
       "360974  2006-03-13 23:45:13  \n",
       "736324  2006-04-22 20:31:19  \n",
       "736325  2006-04-23 00:42:51  \n",
       "736326  2006-04-23 00:44:26  \n",
       "736327  2006-04-23 00:45:21  \n",
       "736328  2006-04-23 00:49:21  \n",
       "736329  2006-04-23 00:53:40  \n",
       "1045062 2006-04-06 19:59:08  \n",
       "1457112 2006-04-24 18:28:58  \n",
       "2103689 2006-03-29 21:10:25  \n",
       "2163193 2006-04-02 12:16:55  \n",
       "2427766 2006-05-11 20:49:10  \n",
       "3092337 2006-04-27 17:27:20  "
      ]
     },
     "execution_count": 36,
     "metadata": {},
     "output_type": "execute_result"
    }
   ],
   "source": [
    "#logs[logs['Query'] == query]\n",
    "logs[logs['Query'].str.startswith(query) == True] #.head(100)"
   ]
  },
  {
   "cell_type": "code",
   "execution_count": 7,
   "metadata": {
    "scrolled": true
   },
   "outputs": [
    {
     "data": {
      "text/html": [
       "<div>\n",
       "<style scoped>\n",
       "    .dataframe tbody tr th:only-of-type {\n",
       "        vertical-align: middle;\n",
       "    }\n",
       "\n",
       "    .dataframe tbody tr th {\n",
       "        vertical-align: top;\n",
       "    }\n",
       "\n",
       "    .dataframe thead th {\n",
       "        text-align: right;\n",
       "    }\n",
       "</style>\n",
       "<table border=\"1\" class=\"dataframe\">\n",
       "  <thead>\n",
       "    <tr style=\"text-align: right;\">\n",
       "      <th></th>\n",
       "    </tr>\n",
       "  </thead>\n",
       "  <tbody>\n",
       "  </tbody>\n",
       "</table>\n",
       "</div>"
      ],
      "text/plain": [
       "Empty DataFrame\n",
       "Columns: []\n",
       "Index: []"
      ]
     },
     "execution_count": 7,
     "metadata": {},
     "output_type": "execute_result"
    }
   ],
   "source": [
    "# gets a subset from the query\n",
    "queries_equal_to_q = logs[logs['Query'] == query]\n",
    "arr_unique_sessions_queries = []\n",
    "current_user_id = 0\n",
    "# get the unique sessions for the query because users could search 2 or more times the same query immediately in the same session.\n",
    "for index, row in queries_equal_to_q.iterrows():\n",
    "    user_id = row[0]\n",
    "    if current_user_id != user_id:\n",
    "        arr_unique_sessions_queries.append(row)\n",
    "        current_user_id = user_id\n",
    "queries_equal_to_q = pd.DataFrame(arr_unique_sessions_queries)\n",
    "queries_equal_to_q\n"
   ]
  },
  {
   "cell_type": "code",
   "execution_count": 8,
   "metadata": {
    "scrolled": false
   },
   "outputs": [],
   "source": [
    "# Get query candidates for suggestions, the ones which in the same session changed from query text to query text + something else\n",
    "arr_candidate_queries = []\n",
    "time_differences = []\n",
    "# loop through queries_equal_to_q to get the real candidates \n",
    "for index, row in queries_equal_to_q.iterrows():\n",
    "    user_id = row[0]\n",
    "    query = row[1]\n",
    "    q_time = row[2]\n",
    "    current_index = index + 1\n",
    "    current_user_id = logs.loc[current_index, 'UserId']\n",
    "    has_next = False\n",
    "    is_invalid = False\n",
    "    while (user_id == current_user_id):\n",
    "        # check for current query text \n",
    "        current_query = logs.loc[current_index, 'Query']\n",
    "        if (not pd.isna(current_query) and current_query.startswith(query) and len(current_query) > len(query)):\n",
    "            arr_candidate_queries.append(logs.loc[current_index])\n",
    "            time_differences.append((logs.loc[current_index]['QueryTime'] - q_time).total_seconds())\n",
    "        # move to next row    \n",
    "        current_index += 1\n",
    "        current_user_id = logs.loc[current_index, 'UserId']\n",
    "\n",
    "candidate_queries = pd.DataFrame(arr_candidate_queries)\n",
    "if len(candidate_queries) > 0:\n",
    "    candidate_queries['Time_Dif'] =  time_differences\n",
    "    candidate_queries = candidate_queries.join(candidate_queries.groupby('Query')['Time_Dif'].min(), on=\"Query\", rsuffix=\"_Min\")\n",
    "    # only get the queries that have the min difference in time\n",
    "    # and remove duplicated queries based on 'Query', 'Time_Dif'\n",
    "    candidate_queries[candidate_queries['Time_Dif'] == candidate_queries['Time_Dif_Min']].drop_duplicates(subset=['Query', 'Time_Dif'])\n",
    "    candidate_queries\n"
   ]
  },
  {
   "cell_type": "code",
   "execution_count": 9,
   "metadata": {
    "scrolled": true
   },
   "outputs": [
    {
     "ename": "KeyError",
     "evalue": "'Query'",
     "output_type": "error",
     "traceback": [
      "\u001b[0;31m---------------------------------------------------------------------------\u001b[0m",
      "\u001b[0;31mKeyError\u001b[0m                                  Traceback (most recent call last)",
      "\u001b[0;32m~/anaconda3/lib/python3.7/site-packages/pandas/core/indexes/base.py\u001b[0m in \u001b[0;36mget_loc\u001b[0;34m(self, key, method, tolerance)\u001b[0m\n\u001b[1;32m   2896\u001b[0m             \u001b[0;32mtry\u001b[0m\u001b[0;34m:\u001b[0m\u001b[0;34m\u001b[0m\u001b[0;34m\u001b[0m\u001b[0m\n\u001b[0;32m-> 2897\u001b[0;31m                 \u001b[0;32mreturn\u001b[0m \u001b[0mself\u001b[0m\u001b[0;34m.\u001b[0m\u001b[0m_engine\u001b[0m\u001b[0;34m.\u001b[0m\u001b[0mget_loc\u001b[0m\u001b[0;34m(\u001b[0m\u001b[0mkey\u001b[0m\u001b[0;34m)\u001b[0m\u001b[0;34m\u001b[0m\u001b[0;34m\u001b[0m\u001b[0m\n\u001b[0m\u001b[1;32m   2898\u001b[0m             \u001b[0;32mexcept\u001b[0m \u001b[0mKeyError\u001b[0m\u001b[0;34m:\u001b[0m\u001b[0;34m\u001b[0m\u001b[0;34m\u001b[0m\u001b[0m\n",
      "\u001b[0;32mpandas/_libs/index.pyx\u001b[0m in \u001b[0;36mpandas._libs.index.IndexEngine.get_loc\u001b[0;34m()\u001b[0m\n",
      "\u001b[0;32mpandas/_libs/index.pyx\u001b[0m in \u001b[0;36mpandas._libs.index.IndexEngine.get_loc\u001b[0;34m()\u001b[0m\n",
      "\u001b[0;32mpandas/_libs/hashtable_class_helper.pxi\u001b[0m in \u001b[0;36mpandas._libs.hashtable.PyObjectHashTable.get_item\u001b[0;34m()\u001b[0m\n",
      "\u001b[0;32mpandas/_libs/hashtable_class_helper.pxi\u001b[0m in \u001b[0;36mpandas._libs.hashtable.PyObjectHashTable.get_item\u001b[0;34m()\u001b[0m\n",
      "\u001b[0;31mKeyError\u001b[0m: 'Query'",
      "\nDuring handling of the above exception, another exception occurred:\n",
      "\u001b[0;31mKeyError\u001b[0m                                  Traceback (most recent call last)",
      "\u001b[0;32m<ipython-input-9-1058ae44fec6>\u001b[0m in \u001b[0;36m<module>\u001b[0;34m\u001b[0m\n\u001b[1;32m      1\u001b[0m \u001b[0;31m# set the frequency - 𝐹𝑟𝑒𝑞(𝐶𝑄)\u001b[0m\u001b[0;34m\u001b[0m\u001b[0;34m\u001b[0m\u001b[0;34m\u001b[0m\u001b[0m\n\u001b[0;32m----> 2\u001b[0;31m \u001b[0mquery_counts\u001b[0m \u001b[0;34m=\u001b[0m \u001b[0mlogs\u001b[0m\u001b[0;34m[\u001b[0m\u001b[0mlogs\u001b[0m\u001b[0;34m[\u001b[0m\u001b[0;34m'Query'\u001b[0m\u001b[0;34m]\u001b[0m\u001b[0;34m.\u001b[0m\u001b[0misin\u001b[0m\u001b[0;34m(\u001b[0m\u001b[0mcandidate_queries\u001b[0m\u001b[0;34m[\u001b[0m\u001b[0;34m'Query'\u001b[0m\u001b[0;34m]\u001b[0m\u001b[0;34m)\u001b[0m\u001b[0;34m]\u001b[0m\u001b[0;34m.\u001b[0m\u001b[0mgroupby\u001b[0m\u001b[0;34m(\u001b[0m\u001b[0;34m'Query'\u001b[0m\u001b[0;34m)\u001b[0m\u001b[0;34m[\u001b[0m\u001b[0;34m'Query'\u001b[0m\u001b[0;34m]\u001b[0m\u001b[0;34m.\u001b[0m\u001b[0mcount\u001b[0m\u001b[0;34m(\u001b[0m\u001b[0;34m)\u001b[0m\u001b[0;34m\u001b[0m\u001b[0;34m\u001b[0m\u001b[0m\n\u001b[0m\u001b[1;32m      3\u001b[0m \u001b[0mquery_results\u001b[0m \u001b[0;34m=\u001b[0m \u001b[0mcandidate_queries\u001b[0m\u001b[0;34m.\u001b[0m\u001b[0mjoin\u001b[0m\u001b[0;34m(\u001b[0m\u001b[0mquery_counts\u001b[0m\u001b[0;34m,\u001b[0m \u001b[0mon\u001b[0m\u001b[0;34m=\u001b[0m\u001b[0;34m'Query'\u001b[0m\u001b[0;34m,\u001b[0m \u001b[0mlsuffix\u001b[0m\u001b[0;34m=\u001b[0m\u001b[0;34m'_text'\u001b[0m\u001b[0;34m)\u001b[0m\u001b[0;34m\u001b[0m\u001b[0;34m\u001b[0m\u001b[0m\n\u001b[1;32m      4\u001b[0m \u001b[0mquery_results\u001b[0m \u001b[0;34m=\u001b[0m \u001b[0mquery_results\u001b[0m\u001b[0;34m.\u001b[0m\u001b[0mrename\u001b[0m\u001b[0;34m(\u001b[0m\u001b[0mcolumns\u001b[0m\u001b[0;34m=\u001b[0m\u001b[0;34m{\u001b[0m\u001b[0;34m'Query'\u001b[0m\u001b[0;34m:\u001b[0m \u001b[0;34m'Count'\u001b[0m\u001b[0;34m,\u001b[0m \u001b[0;34m'Query_text'\u001b[0m\u001b[0;34m:\u001b[0m \u001b[0;34m'Query'\u001b[0m\u001b[0;34m}\u001b[0m\u001b[0;34m)\u001b[0m\u001b[0;34m\u001b[0m\u001b[0;34m\u001b[0m\u001b[0m\n\u001b[1;32m      5\u001b[0m \u001b[0mquery_results\u001b[0m\u001b[0;34m[\u001b[0m\u001b[0;34m'Freq'\u001b[0m\u001b[0;34m]\u001b[0m \u001b[0;34m=\u001b[0m \u001b[0mquery_results\u001b[0m\u001b[0;34m[\u001b[0m\u001b[0;34m'Count'\u001b[0m\u001b[0;34m]\u001b[0m \u001b[0;34m/\u001b[0m \u001b[0mmax_frequency\u001b[0m\u001b[0;34m\u001b[0m\u001b[0;34m\u001b[0m\u001b[0m\n",
      "\u001b[0;32m~/anaconda3/lib/python3.7/site-packages/pandas/core/frame.py\u001b[0m in \u001b[0;36m__getitem__\u001b[0;34m(self, key)\u001b[0m\n\u001b[1;32m   2978\u001b[0m             \u001b[0;32mif\u001b[0m \u001b[0mself\u001b[0m\u001b[0;34m.\u001b[0m\u001b[0mcolumns\u001b[0m\u001b[0;34m.\u001b[0m\u001b[0mnlevels\u001b[0m \u001b[0;34m>\u001b[0m \u001b[0;36m1\u001b[0m\u001b[0;34m:\u001b[0m\u001b[0;34m\u001b[0m\u001b[0;34m\u001b[0m\u001b[0m\n\u001b[1;32m   2979\u001b[0m                 \u001b[0;32mreturn\u001b[0m \u001b[0mself\u001b[0m\u001b[0;34m.\u001b[0m\u001b[0m_getitem_multilevel\u001b[0m\u001b[0;34m(\u001b[0m\u001b[0mkey\u001b[0m\u001b[0;34m)\u001b[0m\u001b[0;34m\u001b[0m\u001b[0;34m\u001b[0m\u001b[0m\n\u001b[0;32m-> 2980\u001b[0;31m             \u001b[0mindexer\u001b[0m \u001b[0;34m=\u001b[0m \u001b[0mself\u001b[0m\u001b[0;34m.\u001b[0m\u001b[0mcolumns\u001b[0m\u001b[0;34m.\u001b[0m\u001b[0mget_loc\u001b[0m\u001b[0;34m(\u001b[0m\u001b[0mkey\u001b[0m\u001b[0;34m)\u001b[0m\u001b[0;34m\u001b[0m\u001b[0;34m\u001b[0m\u001b[0m\n\u001b[0m\u001b[1;32m   2981\u001b[0m             \u001b[0;32mif\u001b[0m \u001b[0mis_integer\u001b[0m\u001b[0;34m(\u001b[0m\u001b[0mindexer\u001b[0m\u001b[0;34m)\u001b[0m\u001b[0;34m:\u001b[0m\u001b[0;34m\u001b[0m\u001b[0;34m\u001b[0m\u001b[0m\n\u001b[1;32m   2982\u001b[0m                 \u001b[0mindexer\u001b[0m \u001b[0;34m=\u001b[0m \u001b[0;34m[\u001b[0m\u001b[0mindexer\u001b[0m\u001b[0;34m]\u001b[0m\u001b[0;34m\u001b[0m\u001b[0;34m\u001b[0m\u001b[0m\n",
      "\u001b[0;32m~/anaconda3/lib/python3.7/site-packages/pandas/core/indexes/base.py\u001b[0m in \u001b[0;36mget_loc\u001b[0;34m(self, key, method, tolerance)\u001b[0m\n\u001b[1;32m   2897\u001b[0m                 \u001b[0;32mreturn\u001b[0m \u001b[0mself\u001b[0m\u001b[0;34m.\u001b[0m\u001b[0m_engine\u001b[0m\u001b[0;34m.\u001b[0m\u001b[0mget_loc\u001b[0m\u001b[0;34m(\u001b[0m\u001b[0mkey\u001b[0m\u001b[0;34m)\u001b[0m\u001b[0;34m\u001b[0m\u001b[0;34m\u001b[0m\u001b[0m\n\u001b[1;32m   2898\u001b[0m             \u001b[0;32mexcept\u001b[0m \u001b[0mKeyError\u001b[0m\u001b[0;34m:\u001b[0m\u001b[0;34m\u001b[0m\u001b[0;34m\u001b[0m\u001b[0m\n\u001b[0;32m-> 2899\u001b[0;31m                 \u001b[0;32mreturn\u001b[0m \u001b[0mself\u001b[0m\u001b[0;34m.\u001b[0m\u001b[0m_engine\u001b[0m\u001b[0;34m.\u001b[0m\u001b[0mget_loc\u001b[0m\u001b[0;34m(\u001b[0m\u001b[0mself\u001b[0m\u001b[0;34m.\u001b[0m\u001b[0m_maybe_cast_indexer\u001b[0m\u001b[0;34m(\u001b[0m\u001b[0mkey\u001b[0m\u001b[0;34m)\u001b[0m\u001b[0;34m)\u001b[0m\u001b[0;34m\u001b[0m\u001b[0;34m\u001b[0m\u001b[0m\n\u001b[0m\u001b[1;32m   2900\u001b[0m         \u001b[0mindexer\u001b[0m \u001b[0;34m=\u001b[0m \u001b[0mself\u001b[0m\u001b[0;34m.\u001b[0m\u001b[0mget_indexer\u001b[0m\u001b[0;34m(\u001b[0m\u001b[0;34m[\u001b[0m\u001b[0mkey\u001b[0m\u001b[0;34m]\u001b[0m\u001b[0;34m,\u001b[0m \u001b[0mmethod\u001b[0m\u001b[0;34m=\u001b[0m\u001b[0mmethod\u001b[0m\u001b[0;34m,\u001b[0m \u001b[0mtolerance\u001b[0m\u001b[0;34m=\u001b[0m\u001b[0mtolerance\u001b[0m\u001b[0;34m)\u001b[0m\u001b[0;34m\u001b[0m\u001b[0;34m\u001b[0m\u001b[0m\n\u001b[1;32m   2901\u001b[0m         \u001b[0;32mif\u001b[0m \u001b[0mindexer\u001b[0m\u001b[0;34m.\u001b[0m\u001b[0mndim\u001b[0m \u001b[0;34m>\u001b[0m \u001b[0;36m1\u001b[0m \u001b[0;32mor\u001b[0m \u001b[0mindexer\u001b[0m\u001b[0;34m.\u001b[0m\u001b[0msize\u001b[0m \u001b[0;34m>\u001b[0m \u001b[0;36m1\u001b[0m\u001b[0;34m:\u001b[0m\u001b[0;34m\u001b[0m\u001b[0;34m\u001b[0m\u001b[0m\n",
      "\u001b[0;32mpandas/_libs/index.pyx\u001b[0m in \u001b[0;36mpandas._libs.index.IndexEngine.get_loc\u001b[0;34m()\u001b[0m\n",
      "\u001b[0;32mpandas/_libs/index.pyx\u001b[0m in \u001b[0;36mpandas._libs.index.IndexEngine.get_loc\u001b[0;34m()\u001b[0m\n",
      "\u001b[0;32mpandas/_libs/hashtable_class_helper.pxi\u001b[0m in \u001b[0;36mpandas._libs.hashtable.PyObjectHashTable.get_item\u001b[0;34m()\u001b[0m\n",
      "\u001b[0;32mpandas/_libs/hashtable_class_helper.pxi\u001b[0m in \u001b[0;36mpandas._libs.hashtable.PyObjectHashTable.get_item\u001b[0;34m()\u001b[0m\n",
      "\u001b[0;31mKeyError\u001b[0m: 'Query'"
     ]
    }
   ],
   "source": [
    "# set the frequency - 𝐹𝑟𝑒𝑞(𝐶𝑄)\n",
    "query_counts = logs[logs['Query'].isin(candidate_queries['Query'])].groupby('Query')['Query'].count()\n",
    "query_results = candidate_queries.join(query_counts, on='Query', lsuffix='_text')\n",
    "query_results = query_results.rename(columns={'Query': 'Count', 'Query_text': 'Query'})\n",
    "query_results['Freq'] = query_results['Count'] / max_frequency\n",
    "\n",
    "# set the mod - 𝑀𝑜𝑑(𝐶𝑄,𝑞′)\n",
    "sessions_count = candidate_queries.groupby('Query')['Query'].count().astype(object)\n",
    "query_results = query_results.join(sessions_count, on='Query', lsuffix='_text').rename(columns={'Query': 'CountInSession', 'Query_text': 'Query'})\n",
    "query_results['Mod'] = query_results['CountInSession'] / len(queries_equal_to_q) \n",
    "\n",
    "# set the time - 𝑇𝑖𝑚𝑒(𝐶𝑄, 𝑞′)\n",
    "query_results['Time'] = query_results['Time_Dif_Min'] / max_session_time\n",
    "\n",
    "# set the min values\n",
    "min_freq = query_results['Freq'].min()\n",
    "min_mod = query_results['Mod'].min()\n",
    "min_time = query_results['Time'].min()\n",
    "\n",
    "# calculate scores and sort\n",
    "query_results['Score'] = (query_results['Freq'] + query_results['Mod'] + query_results['Time']) / 1 - (min_freq + min_mod + min_time)\n",
    "#query_results['Score'] = query_results['Score'].astype('float64')\n",
    "query_results.sort_values('Score', ascending=False)"
   ]
  },
  {
   "cell_type": "code",
   "execution_count": null,
   "metadata": {
    "scrolled": true
   },
   "outputs": [],
   "source": [
    "query_results.drop_duplicates(subset=['Query', 'Score']).sort_values('Score', ascending=False).head(10)['Query'].tolist()"
   ]
  },
  {
   "cell_type": "code",
   "execution_count": null,
   "metadata": {},
   "outputs": [],
   "source": []
  }
 ],
 "metadata": {
  "kernelspec": {
   "display_name": "Python 3",
   "language": "python",
   "name": "python3"
  },
  "language_info": {
   "codemirror_mode": {
    "name": "ipython",
    "version": 3
   },
   "file_extension": ".py",
   "mimetype": "text/x-python",
   "name": "python",
   "nbconvert_exporter": "python",
   "pygments_lexer": "ipython3",
   "version": "3.7.3"
  }
 },
 "nbformat": 4,
 "nbformat_minor": 2
}
